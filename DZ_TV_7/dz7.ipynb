{
 "cells": [
  {
   "cell_type": "code",
   "execution_count": 133,
   "metadata": {},
   "outputs": [
    {
     "name": "stdout",
     "output_type": "stream",
     "text": [
      "[ 35  45 190 200  40  70  54 150 120 110]\n",
      "[401 574 874 919 459 739 653 902 746 832]\n"
     ]
    }
   ],
   "source": [
    "#Задача 1\n",
    "\n",
    "# Даны значения величины заработной платы заемщиков банка (zp) и значения их поведенческого кредитного скоринга (ks): \n",
    "#    zp = [35, 45, 190, 200, 40, 70, 54, 150, 120, 110], \n",
    "#    ks = [401, 574, 874, 919, 459, 739, 653, 902, 746, 832]. \n",
    "#    Используя математические операции, посчитать коэффициенты линейной регрессии, приняв за X заработную плату \n",
    "#    (то есть, zp - признак), а за y - значения скорингового балла (то есть, ks - целевая переменная). \n",
    "#    Произвести расчет как с использованием intercept, так и без.\n",
    "\n",
    "import numpy as np\n",
    "\n",
    "zp = np.array([35, 45, 190, 200, 40, 70, 54, 150, 120, 110])\n",
    "\n",
    "ks = np.array([401, 574, 874, 919, 459, 739, 653, 902, 746, 832])\n",
    "\n",
    "print(zp)\n",
    "print(ks)"
   ]
  },
  {
   "cell_type": "code",
   "execution_count": 134,
   "metadata": {},
   "outputs": [
    {
     "data": {
      "text/plain": [
       "2.621"
      ]
     },
     "execution_count": 134,
     "metadata": {},
     "output_type": "execute_result"
    }
   ],
   "source": [
    "x =zp\n",
    "y = ks\n",
    "b = round(((np.mean(x * y) - np.mean(x) * np.mean(y)) / (np.mean(x**2) - np.mean(x) ** 2)),3)\n",
    "b"
   ]
  },
  {
   "cell_type": "code",
   "execution_count": 135,
   "metadata": {},
   "outputs": [
    {
     "data": {
      "text/plain": [
       "444.131"
      ]
     },
     "execution_count": 135,
     "metadata": {},
     "output_type": "execute_result"
    }
   ],
   "source": [
    "a = round((np.mean(y) - b * np.mean(x)),3)\n",
    "a"
   ]
  },
  {
   "cell_type": "code",
   "execution_count": 136,
   "metadata": {},
   "outputs": [
    {
     "data": {
      "text/plain": [
       "array([535.866, 562.076, 942.121, 968.331, 548.971, 627.601, 585.665,\n",
       "       837.281, 758.651, 732.441])"
      ]
     },
     "execution_count": 136,
     "metadata": {},
     "output_type": "execute_result"
    }
   ],
   "source": [
    "y_hat = a + b * x\n",
    "y_hat"
   ]
  },
  {
   "cell_type": "code",
   "execution_count": 137,
   "metadata": {},
   "outputs": [
    {
     "data": {
      "image/png": "[encoded data removed]",
      "text/plain": [
       "<Figure size 432x288 with 1 Axes>"
      ]
     },
     "metadata": {
      "needs_background": "light"
     },
     "output_type": "display_data"
    }
   ],
   "source": [
    "# уравнение регрессии построили. Теперь посмотрим как исходные данные согласуются с этим уровнением на графике\n",
    "\n",
    "import matplotlib.pyplot as plt\n",
    "\n",
    "import pandas as pd\n",
    "\n",
    "df = pd.DataFrame({'x': x, 'y': y, 'y_hat': y_hat}, columns=['x', 'y', 'y_hat'])\n",
    "\n",
    "df = df.sort_values('x')\n",
    "\n",
    "plt.scatter(df['x'], df['y'])\n",
    "plt.plot(df['x'], df['y_hat'])\n",
    "plt.xlabel('Заработная плата заемщиков')\n",
    "plt.ylabel('Значение кредитного скоринга')\n",
    "plt.show()"
   ]
  },
  {
   "cell_type": "code",
   "execution_count": 138,
   "metadata": {},
   "outputs": [
    {
     "data": {
      "text/plain": [
       "array([[ 35],\n",
       "       [ 45],\n",
       "       [190],\n",
       "       [200],\n",
       "       [ 40],\n",
       "       [ 70],\n",
       "       [ 54],\n",
       "       [150],\n",
       "       [120],\n",
       "       [110]])"
      ]
     },
     "execution_count": 138,
     "metadata": {},
     "output_type": "execute_result"
    }
   ],
   "source": [
    "# Попробуем матричный метод\n",
    "import seaborn as sns\n",
    "\n",
    "x = x.reshape(10,1)\n",
    "x"
   ]
  },
  {
   "cell_type": "code",
   "execution_count": 139,
   "metadata": {},
   "outputs": [
    {
     "data": {
      "text/plain": [
       "array([[401],\n",
       "       [574],\n",
       "       [874],\n",
       "       [919],\n",
       "       [459],\n",
       "       [739],\n",
       "       [653],\n",
       "       [902],\n",
       "       [746],\n",
       "       [832]])"
      ]
     },
     "execution_count": 139,
     "metadata": {},
     "output_type": "execute_result"
    }
   ],
   "source": [
    "y = y.reshape(10,1)\n",
    "y"
   ]
  },
  {
   "cell_type": "code",
   "execution_count": 140,
   "metadata": {},
   "outputs": [
    {
     "data": {
      "text/plain": [
       "array([[5.88982042]])"
      ]
     },
     "execution_count": 140,
     "metadata": {},
     "output_type": "execute_result"
    }
   ],
   "source": [
    "# Произведем рассчет сначала без использования intercept\n",
    "b_bi=np.dot(np.linalg.inv(np.dot(x.T,x)),x.T@y)\n",
    "b_bi"
   ]
  },
  {
   "cell_type": "code",
   "execution_count": 141,
   "metadata": {},
   "outputs": [
    {
     "data": {
      "text/plain": [
       "array([[ 206.1437147 ],\n",
       "       [ 265.04191891],\n",
       "       [1119.06587983],\n",
       "       [1177.96408403],\n",
       "       [ 235.59281681],\n",
       "       [ 412.28742941],\n",
       "       [ 318.05030269],\n",
       "       [ 883.47306302],\n",
       "       [ 706.77845042],\n",
       "       [ 647.88024621]])"
      ]
     },
     "execution_count": 141,
     "metadata": {},
     "output_type": "execute_result"
    }
   ],
   "source": [
    "y_bi = x * b_bi[0]\n",
    "y_bi\n"
   ]
  },
  {
   "cell_type": "code",
   "execution_count": 142,
   "metadata": {},
   "outputs": [],
   "source": [
    "# А теперь посчитаем с использованием intercept"
   ]
  },
  {
   "cell_type": "code",
   "execution_count": 143,
   "metadata": {},
   "outputs": [
    {
     "data": {
      "text/plain": [
       "array([[  1.,  35.],\n",
       "       [  1.,  45.],\n",
       "       [  1., 190.],\n",
       "       [  1., 200.],\n",
       "       [  1.,  40.],\n",
       "       [  1.,  70.],\n",
       "       [  1.,  54.],\n",
       "       [  1., 150.],\n",
       "       [  1., 120.],\n",
       "       [  1., 110.]])"
      ]
     },
     "execution_count": 143,
     "metadata": {},
     "output_type": "execute_result"
    }
   ],
   "source": [
    "x = np.hstack([np.ones((10,1)),x])\n",
    "x"
   ]
  },
  {
   "cell_type": "code",
   "execution_count": 144,
   "metadata": {},
   "outputs": [
    {
     "data": {
      "text/plain": [
       "array([[444.17735732],\n",
       "       [  2.62053888]])"
      ]
     },
     "execution_count": 144,
     "metadata": {},
     "output_type": "execute_result"
    }
   ],
   "source": [
    "b_si=np.dot(np.linalg.inv(np.dot(x.T,x)),x.T@y)\n",
    "b_si"
   ]
  },
  {
   "cell_type": "code",
   "execution_count": 145,
   "metadata": {},
   "outputs": [
    {
     "data": {
      "text/plain": [
       "array([[ 35.],\n",
       "       [ 45.],\n",
       "       [190.],\n",
       "       [200.],\n",
       "       [ 40.],\n",
       "       [ 70.],\n",
       "       [ 54.],\n",
       "       [150.],\n",
       "       [120.],\n",
       "       [110.]])"
      ]
     },
     "execution_count": 145,
     "metadata": {},
     "output_type": "execute_result"
    }
   ],
   "source": [
    "# Уберем единичный столбец\n",
    "x = x[:,1:]\n",
    "x"
   ]
  },
  {
   "cell_type": "code",
   "execution_count": 146,
   "metadata": {},
   "outputs": [
    {
     "data": {
      "text/plain": [
       "array([ 35.,  45., 190., 200.,  40.,  70.,  54., 150., 120., 110.])"
      ]
     },
     "execution_count": 146,
     "metadata": {},
     "output_type": "execute_result"
    }
   ],
   "source": [
    "# Приведем к удобочитаемому виду\n",
    "y_bi = y_bi.reshape(1,10)\n",
    "x = x.reshape(1,10)\n",
    "y = y.reshape(1,10)\n",
    "x[0]"
   ]
  },
  {
   "cell_type": "code",
   "execution_count": 147,
   "metadata": {},
   "outputs": [
    {
     "data": {
      "text/plain": [
       "array([535.89621821, 562.10160703, 942.07974498, 968.2851338 ,\n",
       "       548.99891262, 627.61507909, 585.68645697, 837.25818968,\n",
       "       758.64202321, 732.43663439])"
      ]
     },
     "execution_count": 147,
     "metadata": {},
     "output_type": "execute_result"
    }
   ],
   "source": [
    "# И найдем значения Y с использованием intercept\n",
    "y_si = b_si[0] + b_si[1] * x[0]\n",
    "y_si"
   ]
  },
  {
   "cell_type": "code",
   "execution_count": 148,
   "metadata": {},
   "outputs": [
    {
     "data": {
      "image/png": "[encoded data removed]",
      "text/plain": [
       "<Figure size 432x288 with 1 Axes>"
      ]
     },
     "metadata": {
      "needs_background": "light"
     },
     "output_type": "display_data"
    }
   ],
   "source": [
    "# Посмотрим что получилось на графике\n",
    "df = pd.DataFrame({'x': x[0], 'y': y[0], 'y_bi': y_bi[0], 'y_si': y_si}, columns=['x', 'y', 'y_bi', 'y_si'])\n",
    "\n",
    "df = df.sort_values('x')\n",
    "\n",
    "plt.scatter(df['x'], df['y'])\n",
    "plt.plot(df['x'], df['y_bi'])\n",
    "plt.plot(df['x'], df['y_si'])\n",
    "plt.xlabel('Заработная плата заемщиков')\n",
    "plt.ylabel('Значение кредитного скоринга')\n",
    "plt.show()"
   ]
  },
  {
   "cell_type": "code",
   "execution_count": 149,
   "metadata": {},
   "outputs": [],
   "source": [
    "# Задача 2 Посчитать коэффициент линейной регрессии при заработной плате (zp), используя градиентный спуск (без intercept).\n",
    "zp = np.array([35, 45, 190, 200, 40, 70, 54, 150, 120, 110])\n",
    "\n",
    "ks = np.array([401, 574, 874, 919, 459, 739, 653, 902, 746, 832])\n",
    "\n",
    "x =zp\n",
    "\n",
    "y = ks\n",
    "\n",
    "n = len(x)\n",
    "\n",
    "def mse_ (B1, y=y, x=x, n=10):\n",
    "    return np.sum((B1*x-y)**2)/n\n",
    "\n",
    "alpha = 1e-6\n",
    "alpha\n",
    "\n",
    "B1=2"
   ]
  },
  {
   "cell_type": "code",
   "execution_count": null,
   "metadata": {},
   "outputs": [],
   "source": []
  },
  {
   "cell_type": "code",
   "execution_count": 150,
   "metadata": {},
   "outputs": [
    {
     "name": "stdout",
     "output_type": "stream",
     "text": [
      "Iteration: 0, B1=2.107177, mse=253637.8412260619\n",
      "Iteration: 400, B1=5.889767437196752, mse=56516.858454392954\n",
      "Iteration: 800, B1=5.889820419390563, mse=56516.85841571941\n",
      "Iteration: 1200, B1=5.889820420132673, mse=56516.85841571943\n",
      "Iteration: 1600, B1=5.889820420132673, mse=56516.85841571943\n",
      "Iteration: 2000, B1=5.889820420132673, mse=56516.85841571943\n",
      "Iteration: 2400, B1=5.889820420132673, mse=56516.85841571943\n",
      "Iteration: 2800, B1=5.889820420132673, mse=56516.85841571943\n",
      "Iteration: 3200, B1=5.889820420132673, mse=56516.85841571943\n",
      "Iteration: 3600, B1=5.889820420132673, mse=56516.85841571943\n",
      "Iteration: 4000, B1=5.889820420132673, mse=56516.85841571943\n"
     ]
    }
   ],
   "source": [
    "for i in range (4001):\n",
    "    B1 -= alpha *  (2/n) * np.sum((B1*x-y)*x)\n",
    "    if i%400 == 0:\n",
    "        print ('Iteration: {i}, B1={B1}, mse={mse}'.format(i=i,B1=B1,mse=mse_(B1)))"
   ]
  },
  {
   "cell_type": "code",
   "execution_count": 151,
   "metadata": {},
   "outputs": [],
   "source": [
    "# Задача 4 Посчитать коэффициент линейной регрессии при заработной плате (zp), используя градиентный спуск (с intercept).\n",
    "zp = np.array([35, 45, 190, 200, 40, 70, 54, 150, 120, 110])\n",
    "\n",
    "ks = np.array([401, 574, 874, 919, 459, 739, 653, 902, 746, 832])\n",
    "\n",
    "x =zp\n",
    "\n",
    "y = ks\n",
    "\n",
    "n = len(x)\n",
    "\n",
    "def mse_ (B1, B0, y=y, x=x, n=10):\n",
    "    return np.sum((B1*x+B0-y)**2)/n\n",
    "\n",
    "alpha = 0.00004 # Как оказалось, подобрать альфу - самое основное. Подбором определил вот это число.\n",
    "alpha\n",
    "\n",
    "B1 = 0.2\n",
    "B0 = 0.1"
   ]
  },
  {
   "cell_type": "code",
   "execution_count": 152,
   "metadata": {},
   "outputs": [
    {
     "name": "stdout",
     "output_type": "stream",
     "text": [
      "Iteration: 0, B1=6.470099200000002, B0=0.1042985552896, mse=61144.544558141555\n",
      "Iteration: 40000, B1=4.072060498771763, B0=246.97159304495457, mse=16335.471345536313\n",
      "Iteration: 80000, B1=3.2651371204394164, B0=356.60133589164786, mse=8415.912331527801\n",
      "Iteration: 120000, B1=2.906794962776803, B0=405.2862044312992, mse=6854.087901167763\n",
      "Iteration: 160000, B1=2.7476607681229055, B0=426.9063994913028, mse=6546.078888676646\n",
      "Iteration: 200000, B1=2.676991740305151, B0=436.50759280769637, mse=6485.3361125159245\n",
      "Iteration: 240000, B1=2.645608721064238, B0=440.7713338536487, mse=6473.356966756929\n",
      "Iteration: 280000, B1=2.631672008941689, B0=442.66479512537563, mse=6470.994547022672\n",
      "Iteration: 320000, B1=2.625482931233962, B0=443.5056519102647, mse=6470.528651781644\n",
      "Iteration: 360000, B1=2.6227344578109504, B0=443.8790633675067, mse=6470.436772098935\n",
      "Iteration: 400000, B1=2.621513903390138, B0=444.04488960439255, mse=6470.418652411607\n"
     ]
    }
   ],
   "source": [
    "for i in range (400001): #y = B1*x + B0\n",
    "    B1 -= alpha *  (2/n) * np.sum((B1*x+B0-y)*x)\n",
    "    B0 -= alpha *  (2/n) * np.sum((B1*x+B0-y)*1)  # Частная производная B0, поэтому вторым множителем идет не х, как у B1, а единичка.\n",
    "    if i%40000 == 0:\n",
    "        print ('Iteration: {i}, B1={B1}, B0={B0}, mse={mse}'.format(i=i,B1=B1,B0=B0,mse=mse_(B1, B0)))"
   ]
  },
  {
   "cell_type": "code",
   "execution_count": null,
   "metadata": {},
   "outputs": [],
   "source": [
    "#Задача 3 \n",
    "#В каких случаях для вычисления доверительных интервалов и проверки статистических гипотез \n",
    "#используется таблица значений функции Лапласа, а в каких - таблица критических точек распределения Стьюдента?\n",
    "\n",
    "# Ответ: При небольшом объеме выборки (n<20-30) используем таблицу Стьюдента, при больших - Лапласа."
   ]
  }
 ],
 "metadata": {
  "kernelspec": {
   "display_name": "Python 3",
   "language": "python",
   "name": "python3"
  },
  "language_info": {
   "codemirror_mode": {
    "name": "ipython",
    "version": 3
   },
   "file_extension": ".py",
   "mimetype": "text/x-python",
   "name": "python",
   "nbconvert_exporter": "python",
   "pygments_lexer": "ipython3",
   "version": "3.7.4"
  }
 },
 "nbformat": 4,
 "nbformat_minor": 2
}
