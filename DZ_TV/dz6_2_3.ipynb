{
 "cells": [
  {
   "cell_type": "code",
   "execution_count": 1,
   "metadata": {},
   "outputs": [
    {
     "name": "stdout",
     "output_type": "stream",
     "text": [
      "[131 125 115 122 131 115 107  99 125 111]\n"
     ]
    }
   ],
   "source": [
    "#Урок 6 задание 2\n",
    "#2) Измерены значения IQ выборки студентов,\n",
    "#обучающихся в местных технических вузах:\n",
    "#131, 125, 115, 122, 131, 115, 107, 99, 125, 111.\n",
    "#Известно, что в генеральной совокупности IQ распределен нормально.\n",
    "#Найдите доверительный интервал для математического ожидания с надежностью 0.95.\n",
    "\n",
    "import numpy as np\n",
    "\n",
    "n = np.array([131, 125, 115, 122, 131, 115, 107, 99, 125, 111])\n",
    "\n",
    "print (n)"
   ]
  },
  {
   "cell_type": "code",
   "execution_count": 2,
   "metadata": {},
   "outputs": [
    {
     "data": {
      "text/plain": [
       "118.1"
      ]
     },
     "execution_count": 2,
     "metadata": {},
     "output_type": "execute_result"
    }
   ],
   "source": [
    "# Найдем среднее арифметическое\n",
    "l = len(n)\n",
    "n_sa = n.sum()/l\n",
    "n_sa"
   ]
  },
  {
   "cell_type": "code",
   "execution_count": 3,
   "metadata": {},
   "outputs": [
    {
     "name": "stdout",
     "output_type": "stream",
     "text": [
      "Среднее квадратичное отклонение = 10.004498987955369\n"
     ]
    }
   ],
   "source": [
    "# Найдем среднее квадратичное отклонение\n",
    "n2 = (n - n_sa)**2\n",
    "n_sko = (n2.sum()/l)**0.5\n",
    "\n",
    "print ('Среднее квадратичное отклонение =',n_sko)"
   ]
  },
  {
   "cell_type": "code",
   "execution_count": 4,
   "metadata": {},
   "outputs": [
    {
     "name": "stdout",
     "output_type": "stream",
     "text": [
      "Смещенная оценка дисперсии S^2= 100.09\n",
      "Несмещенная оценка дисперсии S^2= 111.21111111111111\n"
     ]
    }
   ],
   "source": [
    "# Найдем смещенную и несмещенную оценки дисперсии\n",
    "n_sod = n_sko*n_sko # или # n_nod = (n2.sum()/l)\n",
    "\n",
    "n_nod = (n2.sum()/(l-1))\n",
    "\n",
    "print ('Смещенная оценка дисперсии S^2=',n_sod)\n",
    "print ('Несмещенная оценка дисперсии S^2=',n_nod)"
   ]
  },
  {
   "cell_type": "code",
   "execution_count": 5,
   "metadata": {},
   "outputs": [
    {
     "data": {
      "text/plain": [
       "10.54566788359614"
      ]
     },
     "execution_count": 5,
     "metadata": {},
     "output_type": "execute_result"
    }
   ],
   "source": [
    "s0 = (n_nod)**0.5\n",
    "s0 #среднее квадратичное отклонение по выборке (несмещенное)"
   ]
  },
  {
   "cell_type": "code",
   "execution_count": 6,
   "metadata": {},
   "outputs": [
    {
     "name": "stdout",
     "output_type": "stream",
     "text": [
      "Доверительный интервал находится в промежутке от 110.55660776308164 до 125.64339223691834\n"
     ]
    }
   ],
   "source": [
    "c= 2.262 #обратное значение функции стандартного нормального распределения при Р=0.95 по таблице Стьюдента\n",
    "\n",
    "t1 = n_sa + s0*c/((len(n))**0.5)\n",
    "\n",
    "t2 = n_sa - s0*c/((len(n))**0.5)\n",
    "\n",
    "print (f'Доверительный интервал находится в промежутке от {t2} до {t1}')"
   ]
  },
  {
   "cell_type": "code",
   "execution_count": 9,
   "metadata": {},
   "outputs": [],
   "source": [
    "#Задача 3\n",
    "#Известно, что рост футболистов в сборной распределен нормально\n",
    "#с дисперсией генеральной совокупности, равной 25 кв.см. Объем выборки равен 27,\n",
    "#среднее выборочное составляет 174.2. Найдите доверительный интервал для математического\n",
    "#ожидания с надежностью 0.95.\n",
    "\n",
    "D = 25\n",
    "X = 174.2\n",
    "n3 = 27\n",
    "c = 1.96 # По Лапласу при P=0.95"
   ]
  },
  {
   "cell_type": "code",
   "execution_count": 10,
   "metadata": {},
   "outputs": [
    {
     "data": {
      "text/plain": [
       "5.0"
      ]
     },
     "execution_count": 10,
     "metadata": {},
     "output_type": "execute_result"
    }
   ],
   "source": [
    "s3 = (D)**0.5\n",
    "s3 #среднее квадратичное отклонение по выборке"
   ]
  },
  {
   "cell_type": "code",
   "execution_count": 13,
   "metadata": {},
   "outputs": [
    {
     "name": "stdout",
     "output_type": "stream",
     "text": [
      "Доверительный интервал находится в промежутке от 172.31398912064722 до 176.08601087935276\n"
     ]
    }
   ],
   "source": [
    "#H0 - вес пачки = 200 грамм, H0 - вес пачки != 200\n",
    "t3_1 = X + c*s3/(n3**0.5)\n",
    "\n",
    "t3_2 = X - c*s3/(n3**0.5)\n",
    "\n",
    "print (f'Доверительный интервал находится в промежутке от {t3_2} до {t3_1}')"
   ]
  },
  {
   "cell_type": "code",
   "execution_count": 14,
   "metadata": {},
   "outputs": [],
   "source": [
    "#Задача 1\n",
    "#Даны значения величины заработной платы заемщиков банка (zp) и значения их поведенческого кредитного скоринга (ks):\n",
    "#zp = [35, 45, 190, 200, 40, 70, 54, 150, 120, 110],\n",
    "#ks = [401, 574, 874, 919, 459, 739, 653, 902, 746, 832].\n",
    "#Найдите ковариацию этих двух величин с помощью элементарных действий, а затем с помощью функции cov из numpy\n",
    "#Полученные значения должны быть равны.\n",
    "#Найдите коэффициент корреляции Пирсона с помощью ковариации и среднеквадратичных отклонений двух признаков,\n",
    "#а затем с использованием функций из библиотек numpy и pandas.\n",
    "\n",
    "zp = np.array([35, 45, 190, 200, 40, 70, 54, 150, 120, 110])\n",
    "\n",
    "ks = np.array([401, 574, 874, 919, 459, 739, 653, 902, 746, 832])"
   ]
  },
  {
   "cell_type": "code",
   "execution_count": 15,
   "metadata": {},
   "outputs": [
    {
     "data": {
      "text/plain": [
       "9157.839999999997"
      ]
     },
     "execution_count": 15,
     "metadata": {},
     "output_type": "execute_result"
    }
   ],
   "source": [
    "cov_hand =  np.mean(zp*ks) - np.mean(zp)*np.mean(ks)\n",
    "\n",
    "cov_hand # Коваривация \"вручную\""
   ]
  },
  {
   "cell_type": "code",
   "execution_count": 16,
   "metadata": {},
   "outputs": [
    {
     "data": {
      "text/plain": [
       "array([[ 3494.64,  9157.84],\n",
       "       [ 9157.84, 30468.89]])"
      ]
     },
     "execution_count": 16,
     "metadata": {},
     "output_type": "execute_result"
    }
   ],
   "source": [
    "np.cov(zp,ks,ddof=0) # Ковариация с использованием функций nupmy"
   ]
  },
  {
   "cell_type": "code",
   "execution_count": 18,
   "metadata": {},
   "outputs": [
    {
     "data": {
      "text/plain": [
       "0.8874900920739158"
      ]
     },
     "execution_count": 18,
     "metadata": {},
     "output_type": "execute_result"
    }
   ],
   "source": [
    "r = cov_hand/(np.std(zp)*np.std(ks))\n",
    "r # Коэффициент корреляции Пирсона \"вручную\""
   ]
  },
  {
   "cell_type": "code",
   "execution_count": 20,
   "metadata": {},
   "outputs": [
    {
     "data": {
      "text/plain": [
       "array([[1.        , 0.88749009],\n",
       "       [0.88749009, 1.        ]])"
      ]
     },
     "execution_count": 20,
     "metadata": {},
     "output_type": "execute_result"
    }
   ],
   "source": [
    "np.corrcoef(zp,ks) # Коэффициент корреляции Пирсона с использованием функций numpy"
   ]
  },
  {
   "cell_type": "code",
   "execution_count": null,
   "metadata": {},
   "outputs": [],
   "source": []
  }
 ],
 "metadata": {
  "kernelspec": {
   "display_name": "Python 3",
   "language": "python",
   "name": "python3"
  },
  "language_info": {
   "codemirror_mode": {
    "name": "ipython",
    "version": 3
   },
   "file_extension": ".py",
   "mimetype": "text/x-python",
   "name": "python",
   "nbconvert_exporter": "python",
   "pygments_lexer": "ipython3",
   "version": "3.7.4"
  }
 },
 "nbformat": 4,
 "nbformat_minor": 2
}
